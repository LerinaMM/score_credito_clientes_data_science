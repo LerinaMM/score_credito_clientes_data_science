{
  "nbformat": 4,
  "nbformat_minor": 0,
  "metadata": {
    "colab": {
      "provenance": [],
      "mount_file_id": "1_joEZ8j_lN9SaSI1QpeZTud6YS6Nlk4u",
      "authorship_tag": "ABX9TyMKcnc2XdvQuqkSAmxnW0t1",
      "include_colab_link": true
    },
    "kernelspec": {
      "name": "python3",
      "display_name": "Python 3"
    },
    "language_info": {
      "name": "python"
    }
  },
  "cells": [
    {
      "cell_type": "markdown",
      "metadata": {
        "id": "view-in-github",
        "colab_type": "text"
      },
      "source": [
        "<a href=\"https://colab.research.google.com/github/LerinaMM/score_credito_clientes_data_science/blob/main/score_credito_clientes.ipynb\" target=\"_parent\"><img src=\"https://colab.research.google.com/assets/colab-badge.svg\" alt=\"Open In Colab\"/></a>"
      ]
    },
    {
      "cell_type": "markdown",
      "source": [
        "## Passo a passo\n",
        "\n",
        "1. Entender o desafio e a empresa\n",
        "2. Importar a base de dados\n",
        "3. Preparar a base de dados para o modelo\n",
        "4. Criar um modelo de inteligencia artificial\n",
        "  \n",
        "  4.1 Score de credito: Ruim, médio e bom\n",
        "\n",
        "5. Usar o modelo em um cenário real"
      ],
      "metadata": {
        "id": "37QO4b56qJTU"
      }
    },
    {
      "cell_type": "markdown",
      "source": [
        "##1. Conectar o Dataset a partir do drive"
      ],
      "metadata": {
        "id": "UyQad7QamXlp"
      }
    },
    {
      "cell_type": "code",
      "execution_count": 4,
      "metadata": {
        "colab": {
          "base_uri": "https://localhost:8080/",
          "height": 0
        },
        "id": "GBBML6QjmFWp",
        "outputId": "3cf823ac-531d-4f26-b85d-e2a977838cbf"
      },
      "outputs": [
        {
          "output_type": "stream",
          "name": "stdout",
          "text": [
            "wget: missing URL\n",
            "Usage: wget [OPTION]... [URL]...\n",
            "\n",
            "Try `wget --help' for more options.\n"
          ]
        }
      ],
      "source": [
        "!wget -P \"/content/drive/MyDrive/Datasets/Python IA/clientes.csv\""
      ]
    },
    {
      "cell_type": "markdown",
      "source": [
        "# 2. Importar Bibliotecas"
      ],
      "metadata": {
        "id": "CUKh7fc3mn9y"
      }
    },
    {
      "cell_type": "code",
      "source": [
        "import pandas as pd\n",
        "import numpy as np\n",
        "import matplotlib.pyplot as plt\n",
        "import seaborn as sns\n",
        "\n",
        "import warnings\n",
        "warnings.filterwarnings('ignore')"
      ],
      "metadata": {
        "id": "p1uDR78gmmxA"
      },
      "execution_count": 7,
      "outputs": []
    },
    {
      "cell_type": "markdown",
      "source": [
        "#3. Verificação do código"
      ],
      "metadata": {
        "id": "2JtFu3C_navw"
      }
    },
    {
      "cell_type": "code",
      "source": [
        "#Nomear o primeiro conjunto de dados\n",
        "\n",
        "dados = pd.read_csv('/content/drive/MyDrive/Datasets/Python IA/clientes.csv')"
      ],
      "metadata": {
        "id": "-lsHvjnsnaUP"
      },
      "execution_count": 8,
      "outputs": []
    },
    {
      "cell_type": "code",
      "source": [
        "dados.head()"
      ],
      "metadata": {
        "colab": {
          "base_uri": "https://localhost:8080/",
          "height": 299
        },
        "id": "KaT0lCn3rSOS",
        "outputId": "caf07f74-8319-409d-8469-737af3156f09"
      },
      "execution_count": 10,
      "outputs": [
        {
          "output_type": "execute_result",
          "data": {
            "text/plain": [
              "   id_cliente  mes  idade  profissao  salario_anual  num_contas  num_cartoes  \\\n",
              "0        3392    1   23.0  cientista       19114.12         3.0          4.0   \n",
              "1        3392    2   23.0  cientista       19114.12         3.0          4.0   \n",
              "2        3392    3   23.0  cientista       19114.12         3.0          4.0   \n",
              "3        3392    4   23.0  cientista       19114.12         3.0          4.0   \n",
              "4        3392    5   23.0  cientista       19114.12         3.0          4.0   \n",
              "\n",
              "   juros_emprestimo  num_emprestimos  dias_atraso  ...  \\\n",
              "0               3.0              4.0          3.0  ...   \n",
              "1               3.0              4.0          3.0  ...   \n",
              "2               3.0              4.0          3.0  ...   \n",
              "3               3.0              4.0          5.0  ...   \n",
              "4               3.0              4.0          6.0  ...   \n",
              "\n",
              "   idade_historico_credito  investimento_mensal      comportamento_pagamento  \\\n",
              "0                    265.0             21.46538  alto_gasto_pagamento_baixos   \n",
              "1                    266.0             21.46538   baixo_gasto_pagamento_alto   \n",
              "2                    267.0             21.46538  baixo_gasto_pagamento_medio   \n",
              "3                    268.0             21.46538  baixo_gasto_pagamento_baixo   \n",
              "4                    269.0             21.46538   alto_gasto_pagamento_medio   \n",
              "\n",
              "   saldo_final_mes  score_credito  emprestimo_carro  emprestimo_casa  \\\n",
              "0       312.494089           Good                 1                1   \n",
              "1       284.629162           Good                 1                1   \n",
              "2       331.209863           Good                 1                1   \n",
              "3       223.451310           Good                 1                1   \n",
              "4       341.489231           Good                 1                1   \n",
              "\n",
              "  emprestimo_pessoal  emprestimo_credito emprestimo_estudantil  \n",
              "0                  1                   1                     0  \n",
              "1                  1                   1                     0  \n",
              "2                  1                   1                     0  \n",
              "3                  1                   1                     0  \n",
              "4                  1                   1                     0  \n",
              "\n",
              "[5 rows x 25 columns]"
            ],
            "text/html": [
              "\n",
              "\n",
              "  <div id=\"df-2a1b2572-f2d3-4fa9-81e5-65f2ff51b144\">\n",
              "    <div class=\"colab-df-container\">\n",
              "      <div>\n",
              "<style scoped>\n",
              "    .dataframe tbody tr th:only-of-type {\n",
              "        vertical-align: middle;\n",
              "    }\n",
              "\n",
              "    .dataframe tbody tr th {\n",
              "        vertical-align: top;\n",
              "    }\n",
              "\n",
              "    .dataframe thead th {\n",
              "        text-align: right;\n",
              "    }\n",
              "</style>\n",
              "<table border=\"1\" class=\"dataframe\">\n",
              "  <thead>\n",
              "    <tr style=\"text-align: right;\">\n",
              "      <th></th>\n",
              "      <th>id_cliente</th>\n",
              "      <th>mes</th>\n",
              "      <th>idade</th>\n",
              "      <th>profissao</th>\n",
              "      <th>salario_anual</th>\n",
              "      <th>num_contas</th>\n",
              "      <th>num_cartoes</th>\n",
              "      <th>juros_emprestimo</th>\n",
              "      <th>num_emprestimos</th>\n",
              "      <th>dias_atraso</th>\n",
              "      <th>...</th>\n",
              "      <th>idade_historico_credito</th>\n",
              "      <th>investimento_mensal</th>\n",
              "      <th>comportamento_pagamento</th>\n",
              "      <th>saldo_final_mes</th>\n",
              "      <th>score_credito</th>\n",
              "      <th>emprestimo_carro</th>\n",
              "      <th>emprestimo_casa</th>\n",
              "      <th>emprestimo_pessoal</th>\n",
              "      <th>emprestimo_credito</th>\n",
              "      <th>emprestimo_estudantil</th>\n",
              "    </tr>\n",
              "  </thead>\n",
              "  <tbody>\n",
              "    <tr>\n",
              "      <th>0</th>\n",
              "      <td>3392</td>\n",
              "      <td>1</td>\n",
              "      <td>23.0</td>\n",
              "      <td>cientista</td>\n",
              "      <td>19114.12</td>\n",
              "      <td>3.0</td>\n",
              "      <td>4.0</td>\n",
              "      <td>3.0</td>\n",
              "      <td>4.0</td>\n",
              "      <td>3.0</td>\n",
              "      <td>...</td>\n",
              "      <td>265.0</td>\n",
              "      <td>21.46538</td>\n",
              "      <td>alto_gasto_pagamento_baixos</td>\n",
              "      <td>312.494089</td>\n",
              "      <td>Good</td>\n",
              "      <td>1</td>\n",
              "      <td>1</td>\n",
              "      <td>1</td>\n",
              "      <td>1</td>\n",
              "      <td>0</td>\n",
              "    </tr>\n",
              "    <tr>\n",
              "      <th>1</th>\n",
              "      <td>3392</td>\n",
              "      <td>2</td>\n",
              "      <td>23.0</td>\n",
              "      <td>cientista</td>\n",
              "      <td>19114.12</td>\n",
              "      <td>3.0</td>\n",
              "      <td>4.0</td>\n",
              "      <td>3.0</td>\n",
              "      <td>4.0</td>\n",
              "      <td>3.0</td>\n",
              "      <td>...</td>\n",
              "      <td>266.0</td>\n",
              "      <td>21.46538</td>\n",
              "      <td>baixo_gasto_pagamento_alto</td>\n",
              "      <td>284.629162</td>\n",
              "      <td>Good</td>\n",
              "      <td>1</td>\n",
              "      <td>1</td>\n",
              "      <td>1</td>\n",
              "      <td>1</td>\n",
              "      <td>0</td>\n",
              "    </tr>\n",
              "    <tr>\n",
              "      <th>2</th>\n",
              "      <td>3392</td>\n",
              "      <td>3</td>\n",
              "      <td>23.0</td>\n",
              "      <td>cientista</td>\n",
              "      <td>19114.12</td>\n",
              "      <td>3.0</td>\n",
              "      <td>4.0</td>\n",
              "      <td>3.0</td>\n",
              "      <td>4.0</td>\n",
              "      <td>3.0</td>\n",
              "      <td>...</td>\n",
              "      <td>267.0</td>\n",
              "      <td>21.46538</td>\n",
              "      <td>baixo_gasto_pagamento_medio</td>\n",
              "      <td>331.209863</td>\n",
              "      <td>Good</td>\n",
              "      <td>1</td>\n",
              "      <td>1</td>\n",
              "      <td>1</td>\n",
              "      <td>1</td>\n",
              "      <td>0</td>\n",
              "    </tr>\n",
              "    <tr>\n",
              "      <th>3</th>\n",
              "      <td>3392</td>\n",
              "      <td>4</td>\n",
              "      <td>23.0</td>\n",
              "      <td>cientista</td>\n",
              "      <td>19114.12</td>\n",
              "      <td>3.0</td>\n",
              "      <td>4.0</td>\n",
              "      <td>3.0</td>\n",
              "      <td>4.0</td>\n",
              "      <td>5.0</td>\n",
              "      <td>...</td>\n",
              "      <td>268.0</td>\n",
              "      <td>21.46538</td>\n",
              "      <td>baixo_gasto_pagamento_baixo</td>\n",
              "      <td>223.451310</td>\n",
              "      <td>Good</td>\n",
              "      <td>1</td>\n",
              "      <td>1</td>\n",
              "      <td>1</td>\n",
              "      <td>1</td>\n",
              "      <td>0</td>\n",
              "    </tr>\n",
              "    <tr>\n",
              "      <th>4</th>\n",
              "      <td>3392</td>\n",
              "      <td>5</td>\n",
              "      <td>23.0</td>\n",
              "      <td>cientista</td>\n",
              "      <td>19114.12</td>\n",
              "      <td>3.0</td>\n",
              "      <td>4.0</td>\n",
              "      <td>3.0</td>\n",
              "      <td>4.0</td>\n",
              "      <td>6.0</td>\n",
              "      <td>...</td>\n",
              "      <td>269.0</td>\n",
              "      <td>21.46538</td>\n",
              "      <td>alto_gasto_pagamento_medio</td>\n",
              "      <td>341.489231</td>\n",
              "      <td>Good</td>\n",
              "      <td>1</td>\n",
              "      <td>1</td>\n",
              "      <td>1</td>\n",
              "      <td>1</td>\n",
              "      <td>0</td>\n",
              "    </tr>\n",
              "  </tbody>\n",
              "</table>\n",
              "<p>5 rows × 25 columns</p>\n",
              "</div>\n",
              "      <button class=\"colab-df-convert\" onclick=\"convertToInteractive('df-2a1b2572-f2d3-4fa9-81e5-65f2ff51b144')\"\n",
              "              title=\"Convert this dataframe to an interactive table.\"\n",
              "              style=\"display:none;\">\n",
              "\n",
              "  <svg xmlns=\"http://www.w3.org/2000/svg\" height=\"24px\"viewBox=\"0 0 24 24\"\n",
              "       width=\"24px\">\n",
              "    <path d=\"M0 0h24v24H0V0z\" fill=\"none\"/>\n",
              "    <path d=\"M18.56 5.44l.94 2.06.94-2.06 2.06-.94-2.06-.94-.94-2.06-.94 2.06-2.06.94zm-11 1L8.5 8.5l.94-2.06 2.06-.94-2.06-.94L8.5 2.5l-.94 2.06-2.06.94zm10 10l.94 2.06.94-2.06 2.06-.94-2.06-.94-.94-2.06-.94 2.06-2.06.94z\"/><path d=\"M17.41 7.96l-1.37-1.37c-.4-.4-.92-.59-1.43-.59-.52 0-1.04.2-1.43.59L10.3 9.45l-7.72 7.72c-.78.78-.78 2.05 0 2.83L4 21.41c.39.39.9.59 1.41.59.51 0 1.02-.2 1.41-.59l7.78-7.78 2.81-2.81c.8-.78.8-2.07 0-2.86zM5.41 20L4 18.59l7.72-7.72 1.47 1.35L5.41 20z\"/>\n",
              "  </svg>\n",
              "      </button>\n",
              "\n",
              "\n",
              "\n",
              "    <div id=\"df-21203da1-6dbf-4121-a518-0d5dcfc2b74a\">\n",
              "      <button class=\"colab-df-quickchart\" onclick=\"quickchart('df-21203da1-6dbf-4121-a518-0d5dcfc2b74a')\"\n",
              "              title=\"Suggest charts.\"\n",
              "              style=\"display:none;\">\n",
              "\n",
              "<svg xmlns=\"http://www.w3.org/2000/svg\" height=\"24px\"viewBox=\"0 0 24 24\"\n",
              "     width=\"24px\">\n",
              "    <g>\n",
              "        <path d=\"M19 3H5c-1.1 0-2 .9-2 2v14c0 1.1.9 2 2 2h14c1.1 0 2-.9 2-2V5c0-1.1-.9-2-2-2zM9 17H7v-7h2v7zm4 0h-2V7h2v10zm4 0h-2v-4h2v4z\"/>\n",
              "    </g>\n",
              "</svg>\n",
              "      </button>\n",
              "    </div>\n",
              "\n",
              "<style>\n",
              "  .colab-df-quickchart {\n",
              "    background-color: #E8F0FE;\n",
              "    border: none;\n",
              "    border-radius: 50%;\n",
              "    cursor: pointer;\n",
              "    display: none;\n",
              "    fill: #1967D2;\n",
              "    height: 32px;\n",
              "    padding: 0 0 0 0;\n",
              "    width: 32px;\n",
              "  }\n",
              "\n",
              "  .colab-df-quickchart:hover {\n",
              "    background-color: #E2EBFA;\n",
              "    box-shadow: 0px 1px 2px rgba(60, 64, 67, 0.3), 0px 1px 3px 1px rgba(60, 64, 67, 0.15);\n",
              "    fill: #174EA6;\n",
              "  }\n",
              "\n",
              "  [theme=dark] .colab-df-quickchart {\n",
              "    background-color: #3B4455;\n",
              "    fill: #D2E3FC;\n",
              "  }\n",
              "\n",
              "  [theme=dark] .colab-df-quickchart:hover {\n",
              "    background-color: #434B5C;\n",
              "    box-shadow: 0px 1px 3px 1px rgba(0, 0, 0, 0.15);\n",
              "    filter: drop-shadow(0px 1px 2px rgba(0, 0, 0, 0.3));\n",
              "    fill: #FFFFFF;\n",
              "  }\n",
              "</style>\n",
              "\n",
              "    <script>\n",
              "      async function quickchart(key) {\n",
              "        const containerElement = document.querySelector('#' + key);\n",
              "        const charts = await google.colab.kernel.invokeFunction(\n",
              "            'suggestCharts', [key], {});\n",
              "      }\n",
              "    </script>\n",
              "\n",
              "      <script>\n",
              "\n",
              "function displayQuickchartButton(domScope) {\n",
              "  let quickchartButtonEl =\n",
              "    domScope.querySelector('#df-21203da1-6dbf-4121-a518-0d5dcfc2b74a button.colab-df-quickchart');\n",
              "  quickchartButtonEl.style.display =\n",
              "    google.colab.kernel.accessAllowed ? 'block' : 'none';\n",
              "}\n",
              "\n",
              "        displayQuickchartButton(document);\n",
              "      </script>\n",
              "      <style>\n",
              "    .colab-df-container {\n",
              "      display:flex;\n",
              "      flex-wrap:wrap;\n",
              "      gap: 12px;\n",
              "    }\n",
              "\n",
              "    .colab-df-convert {\n",
              "      background-color: #E8F0FE;\n",
              "      border: none;\n",
              "      border-radius: 50%;\n",
              "      cursor: pointer;\n",
              "      display: none;\n",
              "      fill: #1967D2;\n",
              "      height: 32px;\n",
              "      padding: 0 0 0 0;\n",
              "      width: 32px;\n",
              "    }\n",
              "\n",
              "    .colab-df-convert:hover {\n",
              "      background-color: #E2EBFA;\n",
              "      box-shadow: 0px 1px 2px rgba(60, 64, 67, 0.3), 0px 1px 3px 1px rgba(60, 64, 67, 0.15);\n",
              "      fill: #174EA6;\n",
              "    }\n",
              "\n",
              "    [theme=dark] .colab-df-convert {\n",
              "      background-color: #3B4455;\n",
              "      fill: #D2E3FC;\n",
              "    }\n",
              "\n",
              "    [theme=dark] .colab-df-convert:hover {\n",
              "      background-color: #434B5C;\n",
              "      box-shadow: 0px 1px 3px 1px rgba(0, 0, 0, 0.15);\n",
              "      filter: drop-shadow(0px 1px 2px rgba(0, 0, 0, 0.3));\n",
              "      fill: #FFFFFF;\n",
              "    }\n",
              "  </style>\n",
              "\n",
              "      <script>\n",
              "        const buttonEl =\n",
              "          document.querySelector('#df-2a1b2572-f2d3-4fa9-81e5-65f2ff51b144 button.colab-df-convert');\n",
              "        buttonEl.style.display =\n",
              "          google.colab.kernel.accessAllowed ? 'block' : 'none';\n",
              "\n",
              "        async function convertToInteractive(key) {\n",
              "          const element = document.querySelector('#df-2a1b2572-f2d3-4fa9-81e5-65f2ff51b144');\n",
              "          const dataTable =\n",
              "            await google.colab.kernel.invokeFunction('convertToInteractive',\n",
              "                                                     [key], {});\n",
              "          if (!dataTable) return;\n",
              "\n",
              "          const docLinkHtml = 'Like what you see? Visit the ' +\n",
              "            '<a target=\"_blank\" href=https://colab.research.google.com/notebooks/data_table.ipynb>data table notebook</a>'\n",
              "            + ' to learn more about interactive tables.';\n",
              "          element.innerHTML = '';\n",
              "          dataTable['output_type'] = 'display_data';\n",
              "          await google.colab.output.renderOutput(dataTable, element);\n",
              "          const docLink = document.createElement('div');\n",
              "          docLink.innerHTML = docLinkHtml;\n",
              "          element.appendChild(docLink);\n",
              "        }\n",
              "      </script>\n",
              "    </div>\n",
              "  </div>\n"
            ]
          },
          "metadata": {},
          "execution_count": 10
        }
      ]
    },
    {
      "cell_type": "code",
      "source": [
        "#Verificar as colunas da tabela e o tipo de cada coluna para começar a preparação da tabela para o modelo.\n",
        "\n",
        "dados.info()"
      ],
      "metadata": {
        "colab": {
          "base_uri": "https://localhost:8080/",
          "height": 0
        },
        "id": "dElZaBYEsbcG",
        "outputId": "03ab28a5-5174-4b5c-b1f1-a02f089dba90"
      },
      "execution_count": 11,
      "outputs": [
        {
          "output_type": "stream",
          "name": "stdout",
          "text": [
            "<class 'pandas.core.frame.DataFrame'>\n",
            "RangeIndex: 100000 entries, 0 to 99999\n",
            "Data columns (total 25 columns):\n",
            " #   Column                    Non-Null Count   Dtype  \n",
            "---  ------                    --------------   -----  \n",
            " 0   id_cliente                100000 non-null  int64  \n",
            " 1   mes                       100000 non-null  int64  \n",
            " 2   idade                     100000 non-null  float64\n",
            " 3   profissao                 100000 non-null  object \n",
            " 4   salario_anual             100000 non-null  float64\n",
            " 5   num_contas                100000 non-null  float64\n",
            " 6   num_cartoes               100000 non-null  float64\n",
            " 7   juros_emprestimo          100000 non-null  float64\n",
            " 8   num_emprestimos           100000 non-null  float64\n",
            " 9   dias_atraso               100000 non-null  float64\n",
            " 10  num_pagamentos_atrasados  100000 non-null  float64\n",
            " 11  num_verificacoes_credito  100000 non-null  float64\n",
            " 12  mix_credito               100000 non-null  object \n",
            " 13  divida_total              100000 non-null  float64\n",
            " 14  taxa_uso_credito          100000 non-null  float64\n",
            " 15  idade_historico_credito   100000 non-null  float64\n",
            " 16  investimento_mensal       100000 non-null  float64\n",
            " 17  comportamento_pagamento   100000 non-null  object \n",
            " 18  saldo_final_mes           100000 non-null  float64\n",
            " 19  score_credito             100000 non-null  object \n",
            " 20  emprestimo_carro          100000 non-null  int64  \n",
            " 21  emprestimo_casa           100000 non-null  int64  \n",
            " 22  emprestimo_pessoal        100000 non-null  int64  \n",
            " 23  emprestimo_credito        100000 non-null  int64  \n",
            " 24  emprestimo_estudantil     100000 non-null  int64  \n",
            "dtypes: float64(14), int64(7), object(4)\n",
            "memory usage: 19.1+ MB\n"
          ]
        }
      ]
    },
    {
      "cell_type": "markdown",
      "source": [
        "#4. Preparar a base de dados para o modelo"
      ],
      "metadata": {
        "id": "Y2Y_CifUp2_k"
      }
    },
    {
      "cell_type": "code",
      "source": [
        "#Para iniciar o modelo precisamos preparar a base de dados\n",
        "#LabelEncoder ele pega a coluna e transforma os dados escritos em números, o LabelEnconder é um pacote do sklearn\n",
        "\n",
        "#Uma opção seria importar dessa maneira\n",
        "#import sklearn.preprocessing.LabelEnconder\n",
        "#isso quer dizer que vamos importar uma parte do pacote"
      ],
      "metadata": {
        "id": "5zQC9W0Cqx19"
      },
      "execution_count": 18,
      "outputs": []
    },
    {
      "cell_type": "code",
      "source": [
        "pip install scikit-learn"
      ],
      "metadata": {
        "colab": {
          "base_uri": "https://localhost:8080/",
          "height": 0
        },
        "id": "lbo-RgmK42qV",
        "outputId": "d2993629-67da-4d32-d2de-fdbe0737aba0"
      },
      "execution_count": 15,
      "outputs": [
        {
          "output_type": "stream",
          "name": "stdout",
          "text": [
            "Requirement already satisfied: scikit-learn in /usr/local/lib/python3.10/dist-packages (1.2.2)\n",
            "Requirement already satisfied: numpy>=1.17.3 in /usr/local/lib/python3.10/dist-packages (from scikit-learn) (1.22.4)\n",
            "Requirement already satisfied: scipy>=1.3.2 in /usr/local/lib/python3.10/dist-packages (from scikit-learn) (1.10.1)\n",
            "Requirement already satisfied: joblib>=1.1.1 in /usr/local/lib/python3.10/dist-packages (from scikit-learn) (1.3.1)\n",
            "Requirement already satisfied: threadpoolctl>=2.0.0 in /usr/local/lib/python3.10/dist-packages (from scikit-learn) (3.2.0)\n"
          ]
        }
      ]
    },
    {
      "cell_type": "code",
      "source": [
        "#isso quer dizer que vamos importar uma parte do pacote scikit-learn\n",
        "\n",
        "from sklearn.preprocessing import LabelEncoder"
      ],
      "metadata": {
        "id": "5R0sdatA5Hx6"
      },
      "execution_count": 17,
      "outputs": []
    },
    {
      "cell_type": "code",
      "source": [
        "#Vamos criar o codificador para cada coluna com a função fit_transform\n",
        "\n",
        "codificador = LabelEncoder()\n",
        "dados['profissao'] = codificador.fit_transform(dados['profissao'])\n",
        "dados['mix_credito'] = codificador.fit_transform(dados['mix_credito'])\n",
        "dados['comportamento_pagamento'] = codificador.fit_transform(dados['comportamento_pagamento'])"
      ],
      "metadata": {
        "id": "jZI6WU3ov8oe"
      },
      "execution_count": 19,
      "outputs": []
    },
    {
      "cell_type": "code",
      "source": [
        "#Vamos verificar se as colunas foram transformadas para numeros\n",
        "\n",
        "dados.info()"
      ],
      "metadata": {
        "colab": {
          "base_uri": "https://localhost:8080/",
          "height": 0
        },
        "id": "6w2elgrw7sGz",
        "outputId": "a0ff2ab5-6366-48b4-c480-0b9378927775"
      },
      "execution_count": 20,
      "outputs": [
        {
          "output_type": "stream",
          "name": "stdout",
          "text": [
            "<class 'pandas.core.frame.DataFrame'>\n",
            "RangeIndex: 100000 entries, 0 to 99999\n",
            "Data columns (total 25 columns):\n",
            " #   Column                    Non-Null Count   Dtype  \n",
            "---  ------                    --------------   -----  \n",
            " 0   id_cliente                100000 non-null  int64  \n",
            " 1   mes                       100000 non-null  int64  \n",
            " 2   idade                     100000 non-null  float64\n",
            " 3   profissao                 100000 non-null  int64  \n",
            " 4   salario_anual             100000 non-null  float64\n",
            " 5   num_contas                100000 non-null  float64\n",
            " 6   num_cartoes               100000 non-null  float64\n",
            " 7   juros_emprestimo          100000 non-null  float64\n",
            " 8   num_emprestimos           100000 non-null  float64\n",
            " 9   dias_atraso               100000 non-null  float64\n",
            " 10  num_pagamentos_atrasados  100000 non-null  float64\n",
            " 11  num_verificacoes_credito  100000 non-null  float64\n",
            " 12  mix_credito               100000 non-null  int64  \n",
            " 13  divida_total              100000 non-null  float64\n",
            " 14  taxa_uso_credito          100000 non-null  float64\n",
            " 15  idade_historico_credito   100000 non-null  float64\n",
            " 16  investimento_mensal       100000 non-null  float64\n",
            " 17  comportamento_pagamento   100000 non-null  int64  \n",
            " 18  saldo_final_mes           100000 non-null  float64\n",
            " 19  score_credito             100000 non-null  object \n",
            " 20  emprestimo_carro          100000 non-null  int64  \n",
            " 21  emprestimo_casa           100000 non-null  int64  \n",
            " 22  emprestimo_pessoal        100000 non-null  int64  \n",
            " 23  emprestimo_credito        100000 non-null  int64  \n",
            " 24  emprestimo_estudantil     100000 non-null  int64  \n",
            "dtypes: float64(14), int64(10), object(1)\n",
            "memory usage: 19.1+ MB\n"
          ]
        }
      ]
    },
    {
      "cell_type": "markdown",
      "source": [
        "#5. Separar as informações em dados de treino e dados de teste"
      ],
      "metadata": {
        "id": "XK2overy78oz"
      }
    },
    {
      "cell_type": "code",
      "source": [
        "#A tabela que vamos querer prever será o score de crédito (y)\n",
        "\n",
        "y = dados['score_credito']\n",
        "\n",
        "# Os dados que vamos querer utilizar serão todas as colunas que vamos realizar a previsão do score de credito\n",
        "# Vamos utilizar a função .drop para retirar as colunas que não farão parte do modelo\n",
        "\n",
        "# axis = 1 --> coluna\n",
        "# axis = 0 --> linha\n",
        "\n",
        "x = dados.drop(['score_credito','id_cliente'], axis=1) #esta excluindo duas colunas da tabela que não necessitaremos utilizar no modelo\n",
        "\n",
        "from sklearn.model_selection import train_test_split\n",
        "\n",
        "#Separa a base de dados nos 4 pedaços conforme separamos acima\n",
        "x_treino, x_teste, y_treino, y_teste = train_test_split(x,y)\n",
        "\n",
        "#Se quiseres definir o tamanho dos dados de treino e teste, podes fazer dessa maneira\n",
        "\n",
        "#x_treino, x_teste, y_treino, y_teste = train_test_split(x,y, teste_size=0.3, random_state=1)\n",
        "\n",
        "# Em torno de 70% dos dados utilizam para treino e 30% utilizam para teste"
      ],
      "metadata": {
        "id": "d6niLWQs8kJM"
      },
      "execution_count": 21,
      "outputs": []
    },
    {
      "cell_type": "markdown",
      "source": [
        "#6.Criar o modelo de inteligência artificial - Score de Crédito\n",
        "Importa, cria e treina"
      ],
      "metadata": {
        "id": "gQ3c2OkwChwK"
      }
    },
    {
      "cell_type": "code",
      "source": [
        "#Importação dos modelos\n",
        "#Modelo de Árvore de Decisão - e o Modelo KNN - Nearest neighbors\n",
        "\n",
        "from sklearn.ensemble import RandomForestClassifier\n",
        "from sklearn.neighbors import KNeighborsClassifier"
      ],
      "metadata": {
        "id": "BUY1E3-ECscG"
      },
      "execution_count": 22,
      "outputs": []
    },
    {
      "cell_type": "code",
      "source": [
        "#Criação do modelo\n",
        "\n",
        "modelo_arvoredecisao = RandomForestClassifier()\n",
        "modelo_knn = KNeighborsClassifier()"
      ],
      "metadata": {
        "id": "gnnOMPNMDnFQ"
      },
      "execution_count": 23,
      "outputs": []
    },
    {
      "cell_type": "code",
      "source": [
        "#Treinamento do modelo\n",
        "\n",
        "modelo_arvoredecisao.fit(x_treino, y_treino)\n",
        "modelo_knn.fit(x_treino, y_treino)"
      ],
      "metadata": {
        "colab": {
          "base_uri": "https://localhost:8080/",
          "height": 74
        },
        "id": "Hhlynuy8Fh12",
        "outputId": "4b823012-73ee-4364-c3b9-a9d58af9f2a2"
      },
      "execution_count": 24,
      "outputs": [
        {
          "output_type": "execute_result",
          "data": {
            "text/plain": [
              "KNeighborsClassifier()"
            ],
            "text/html": [
              "<style>#sk-container-id-1 {color: black;background-color: white;}#sk-container-id-1 pre{padding: 0;}#sk-container-id-1 div.sk-toggleable {background-color: white;}#sk-container-id-1 label.sk-toggleable__label {cursor: pointer;display: block;width: 100%;margin-bottom: 0;padding: 0.3em;box-sizing: border-box;text-align: center;}#sk-container-id-1 label.sk-toggleable__label-arrow:before {content: \"▸\";float: left;margin-right: 0.25em;color: #696969;}#sk-container-id-1 label.sk-toggleable__label-arrow:hover:before {color: black;}#sk-container-id-1 div.sk-estimator:hover label.sk-toggleable__label-arrow:before {color: black;}#sk-container-id-1 div.sk-toggleable__content {max-height: 0;max-width: 0;overflow: hidden;text-align: left;background-color: #f0f8ff;}#sk-container-id-1 div.sk-toggleable__content pre {margin: 0.2em;color: black;border-radius: 0.25em;background-color: #f0f8ff;}#sk-container-id-1 input.sk-toggleable__control:checked~div.sk-toggleable__content {max-height: 200px;max-width: 100%;overflow: auto;}#sk-container-id-1 input.sk-toggleable__control:checked~label.sk-toggleable__label-arrow:before {content: \"▾\";}#sk-container-id-1 div.sk-estimator input.sk-toggleable__control:checked~label.sk-toggleable__label {background-color: #d4ebff;}#sk-container-id-1 div.sk-label input.sk-toggleable__control:checked~label.sk-toggleable__label {background-color: #d4ebff;}#sk-container-id-1 input.sk-hidden--visually {border: 0;clip: rect(1px 1px 1px 1px);clip: rect(1px, 1px, 1px, 1px);height: 1px;margin: -1px;overflow: hidden;padding: 0;position: absolute;width: 1px;}#sk-container-id-1 div.sk-estimator {font-family: monospace;background-color: #f0f8ff;border: 1px dotted black;border-radius: 0.25em;box-sizing: border-box;margin-bottom: 0.5em;}#sk-container-id-1 div.sk-estimator:hover {background-color: #d4ebff;}#sk-container-id-1 div.sk-parallel-item::after {content: \"\";width: 100%;border-bottom: 1px solid gray;flex-grow: 1;}#sk-container-id-1 div.sk-label:hover label.sk-toggleable__label {background-color: #d4ebff;}#sk-container-id-1 div.sk-serial::before {content: \"\";position: absolute;border-left: 1px solid gray;box-sizing: border-box;top: 0;bottom: 0;left: 50%;z-index: 0;}#sk-container-id-1 div.sk-serial {display: flex;flex-direction: column;align-items: center;background-color: white;padding-right: 0.2em;padding-left: 0.2em;position: relative;}#sk-container-id-1 div.sk-item {position: relative;z-index: 1;}#sk-container-id-1 div.sk-parallel {display: flex;align-items: stretch;justify-content: center;background-color: white;position: relative;}#sk-container-id-1 div.sk-item::before, #sk-container-id-1 div.sk-parallel-item::before {content: \"\";position: absolute;border-left: 1px solid gray;box-sizing: border-box;top: 0;bottom: 0;left: 50%;z-index: -1;}#sk-container-id-1 div.sk-parallel-item {display: flex;flex-direction: column;z-index: 1;position: relative;background-color: white;}#sk-container-id-1 div.sk-parallel-item:first-child::after {align-self: flex-end;width: 50%;}#sk-container-id-1 div.sk-parallel-item:last-child::after {align-self: flex-start;width: 50%;}#sk-container-id-1 div.sk-parallel-item:only-child::after {width: 0;}#sk-container-id-1 div.sk-dashed-wrapped {border: 1px dashed gray;margin: 0 0.4em 0.5em 0.4em;box-sizing: border-box;padding-bottom: 0.4em;background-color: white;}#sk-container-id-1 div.sk-label label {font-family: monospace;font-weight: bold;display: inline-block;line-height: 1.2em;}#sk-container-id-1 div.sk-label-container {text-align: center;}#sk-container-id-1 div.sk-container {/* jupyter's `normalize.less` sets `[hidden] { display: none; }` but bootstrap.min.css set `[hidden] { display: none !important; }` so we also need the `!important` here to be able to override the default hidden behavior on the sphinx rendered scikit-learn.org. See: https://github.com/scikit-learn/scikit-learn/issues/21755 */display: inline-block !important;position: relative;}#sk-container-id-1 div.sk-text-repr-fallback {display: none;}</style><div id=\"sk-container-id-1\" class=\"sk-top-container\"><div class=\"sk-text-repr-fallback\"><pre>KNeighborsClassifier()</pre><b>In a Jupyter environment, please rerun this cell to show the HTML representation or trust the notebook. <br />On GitHub, the HTML representation is unable to render, please try loading this page with nbviewer.org.</b></div><div class=\"sk-container\" hidden><div class=\"sk-item\"><div class=\"sk-estimator sk-toggleable\"><input class=\"sk-toggleable__control sk-hidden--visually\" id=\"sk-estimator-id-1\" type=\"checkbox\" checked><label for=\"sk-estimator-id-1\" class=\"sk-toggleable__label sk-toggleable__label-arrow\">KNeighborsClassifier</label><div class=\"sk-toggleable__content\"><pre>KNeighborsClassifier()</pre></div></div></div></div></div>"
            ]
          },
          "metadata": {},
          "execution_count": 24
        }
      ]
    },
    {
      "cell_type": "code",
      "source": [
        "#Escolha do modelo - Acurácia do Modelo\n",
        "\n",
        "from sklearn.metrics import accuracy_score\n",
        "\n",
        "previsao_arvoredecisao = modelo_arvoredecisao.predict(x_teste)\n",
        "previsao_knn = modelo_knn.predict(x_teste)\n",
        "\n",
        "print(accuracy_score(y_teste, previsao_arvoredecisao))\n",
        "print(accuracy_score(y_teste, previsao_knn))"
      ],
      "metadata": {
        "colab": {
          "base_uri": "https://localhost:8080/",
          "height": 0
        },
        "id": "WsNcIGlGJ-0p",
        "outputId": "36632d1e-381f-4456-f550-760723ae011e"
      },
      "execution_count": 25,
      "outputs": [
        {
          "output_type": "stream",
          "name": "stdout",
          "text": [
            "0.8304\n",
            "0.74536\n"
          ]
        }
      ]
    }
  ]
}